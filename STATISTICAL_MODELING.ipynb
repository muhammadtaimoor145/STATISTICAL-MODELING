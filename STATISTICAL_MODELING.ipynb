{
 "cells": [
  {
   "cell_type": "code",
   "execution_count": 1,
   "id": "eb53e23d",
   "metadata": {},
   "outputs": [],
   "source": [
    "import pandas as pd\n",
    "from scipy.stats import ttest_ind\n",
    "import scipy.stats as stats\n",
    "import seaborn as sns\n",
    "import matplotlib.pyplot as plt\n",
    "import numpy as np"
   ]
  },
  {
   "cell_type": "code",
   "execution_count": 2,
   "id": "8f14d200",
   "metadata": {},
   "outputs": [],
   "source": [
    "df=pd.read_csv('Social_Network_Ads.csv')"
   ]
  },
  {
   "cell_type": "code",
   "execution_count": 3,
   "id": "eeb9154d",
   "metadata": {},
   "outputs": [
    {
     "data": {
      "text/html": [
       "<div>\n",
       "<style scoped>\n",
       "    .dataframe tbody tr th:only-of-type {\n",
       "        vertical-align: middle;\n",
       "    }\n",
       "\n",
       "    .dataframe tbody tr th {\n",
       "        vertical-align: top;\n",
       "    }\n",
       "\n",
       "    .dataframe thead th {\n",
       "        text-align: right;\n",
       "    }\n",
       "</style>\n",
       "<table border=\"1\" class=\"dataframe\">\n",
       "  <thead>\n",
       "    <tr style=\"text-align: right;\">\n",
       "      <th></th>\n",
       "      <th>User ID</th>\n",
       "      <th>Gender</th>\n",
       "      <th>Age</th>\n",
       "      <th>EstimatedSalary</th>\n",
       "      <th>Purchased</th>\n",
       "    </tr>\n",
       "  </thead>\n",
       "  <tbody>\n",
       "    <tr>\n",
       "      <th>0</th>\n",
       "      <td>15624510</td>\n",
       "      <td>Male</td>\n",
       "      <td>19</td>\n",
       "      <td>19000</td>\n",
       "      <td>0</td>\n",
       "    </tr>\n",
       "    <tr>\n",
       "      <th>1</th>\n",
       "      <td>15810944</td>\n",
       "      <td>Male</td>\n",
       "      <td>35</td>\n",
       "      <td>20000</td>\n",
       "      <td>0</td>\n",
       "    </tr>\n",
       "    <tr>\n",
       "      <th>2</th>\n",
       "      <td>15668575</td>\n",
       "      <td>Female</td>\n",
       "      <td>26</td>\n",
       "      <td>43000</td>\n",
       "      <td>0</td>\n",
       "    </tr>\n",
       "    <tr>\n",
       "      <th>3</th>\n",
       "      <td>15603246</td>\n",
       "      <td>Female</td>\n",
       "      <td>27</td>\n",
       "      <td>57000</td>\n",
       "      <td>0</td>\n",
       "    </tr>\n",
       "    <tr>\n",
       "      <th>4</th>\n",
       "      <td>15804002</td>\n",
       "      <td>Male</td>\n",
       "      <td>19</td>\n",
       "      <td>76000</td>\n",
       "      <td>0</td>\n",
       "    </tr>\n",
       "    <tr>\n",
       "      <th>...</th>\n",
       "      <td>...</td>\n",
       "      <td>...</td>\n",
       "      <td>...</td>\n",
       "      <td>...</td>\n",
       "      <td>...</td>\n",
       "    </tr>\n",
       "    <tr>\n",
       "      <th>395</th>\n",
       "      <td>15691863</td>\n",
       "      <td>Female</td>\n",
       "      <td>46</td>\n",
       "      <td>41000</td>\n",
       "      <td>1</td>\n",
       "    </tr>\n",
       "    <tr>\n",
       "      <th>396</th>\n",
       "      <td>15706071</td>\n",
       "      <td>Male</td>\n",
       "      <td>51</td>\n",
       "      <td>23000</td>\n",
       "      <td>1</td>\n",
       "    </tr>\n",
       "    <tr>\n",
       "      <th>397</th>\n",
       "      <td>15654296</td>\n",
       "      <td>Female</td>\n",
       "      <td>50</td>\n",
       "      <td>20000</td>\n",
       "      <td>1</td>\n",
       "    </tr>\n",
       "    <tr>\n",
       "      <th>398</th>\n",
       "      <td>15755018</td>\n",
       "      <td>Male</td>\n",
       "      <td>36</td>\n",
       "      <td>33000</td>\n",
       "      <td>0</td>\n",
       "    </tr>\n",
       "    <tr>\n",
       "      <th>399</th>\n",
       "      <td>15594041</td>\n",
       "      <td>Female</td>\n",
       "      <td>49</td>\n",
       "      <td>36000</td>\n",
       "      <td>1</td>\n",
       "    </tr>\n",
       "  </tbody>\n",
       "</table>\n",
       "<p>400 rows × 5 columns</p>\n",
       "</div>"
      ],
      "text/plain": [
       "      User ID  Gender  Age  EstimatedSalary  Purchased\n",
       "0    15624510    Male   19            19000          0\n",
       "1    15810944    Male   35            20000          0\n",
       "2    15668575  Female   26            43000          0\n",
       "3    15603246  Female   27            57000          0\n",
       "4    15804002    Male   19            76000          0\n",
       "..        ...     ...  ...              ...        ...\n",
       "395  15691863  Female   46            41000          1\n",
       "396  15706071    Male   51            23000          1\n",
       "397  15654296  Female   50            20000          1\n",
       "398  15755018    Male   36            33000          0\n",
       "399  15594041  Female   49            36000          1\n",
       "\n",
       "[400 rows x 5 columns]"
      ]
     },
     "execution_count": 3,
     "metadata": {},
     "output_type": "execute_result"
    }
   ],
   "source": [
    "df"
   ]
  },
  {
   "cell_type": "markdown",
   "id": "f8436363",
   "metadata": {},
   "source": [
    "# POPULATION MEAN OF MALE AND FEMALE AGES"
   ]
  },
  {
   "cell_type": "code",
   "execution_count": 4,
   "id": "fa67d01d",
   "metadata": {},
   "outputs": [
    {
     "data": {
      "text/html": [
       "<div>\n",
       "<style scoped>\n",
       "    .dataframe tbody tr th:only-of-type {\n",
       "        vertical-align: middle;\n",
       "    }\n",
       "\n",
       "    .dataframe tbody tr th {\n",
       "        vertical-align: top;\n",
       "    }\n",
       "\n",
       "    .dataframe thead th {\n",
       "        text-align: right;\n",
       "    }\n",
       "</style>\n",
       "<table border=\"1\" class=\"dataframe\">\n",
       "  <thead>\n",
       "    <tr style=\"text-align: right;\">\n",
       "      <th></th>\n",
       "      <th>User ID</th>\n",
       "      <th>Age</th>\n",
       "      <th>EstimatedSalary</th>\n",
       "      <th>Purchased</th>\n",
       "    </tr>\n",
       "  </thead>\n",
       "  <tbody>\n",
       "    <tr>\n",
       "      <th>count</th>\n",
       "      <td>4.000000e+02</td>\n",
       "      <td>400.000000</td>\n",
       "      <td>400.000000</td>\n",
       "      <td>400.000000</td>\n",
       "    </tr>\n",
       "    <tr>\n",
       "      <th>mean</th>\n",
       "      <td>1.569154e+07</td>\n",
       "      <td>37.655000</td>\n",
       "      <td>69742.500000</td>\n",
       "      <td>0.357500</td>\n",
       "    </tr>\n",
       "    <tr>\n",
       "      <th>std</th>\n",
       "      <td>7.165832e+04</td>\n",
       "      <td>10.482877</td>\n",
       "      <td>34096.960282</td>\n",
       "      <td>0.479864</td>\n",
       "    </tr>\n",
       "    <tr>\n",
       "      <th>min</th>\n",
       "      <td>1.556669e+07</td>\n",
       "      <td>18.000000</td>\n",
       "      <td>15000.000000</td>\n",
       "      <td>0.000000</td>\n",
       "    </tr>\n",
       "    <tr>\n",
       "      <th>25%</th>\n",
       "      <td>1.562676e+07</td>\n",
       "      <td>29.750000</td>\n",
       "      <td>43000.000000</td>\n",
       "      <td>0.000000</td>\n",
       "    </tr>\n",
       "    <tr>\n",
       "      <th>50%</th>\n",
       "      <td>1.569434e+07</td>\n",
       "      <td>37.000000</td>\n",
       "      <td>70000.000000</td>\n",
       "      <td>0.000000</td>\n",
       "    </tr>\n",
       "    <tr>\n",
       "      <th>75%</th>\n",
       "      <td>1.575036e+07</td>\n",
       "      <td>46.000000</td>\n",
       "      <td>88000.000000</td>\n",
       "      <td>1.000000</td>\n",
       "    </tr>\n",
       "    <tr>\n",
       "      <th>max</th>\n",
       "      <td>1.581524e+07</td>\n",
       "      <td>60.000000</td>\n",
       "      <td>150000.000000</td>\n",
       "      <td>1.000000</td>\n",
       "    </tr>\n",
       "  </tbody>\n",
       "</table>\n",
       "</div>"
      ],
      "text/plain": [
       "            User ID         Age  EstimatedSalary   Purchased\n",
       "count  4.000000e+02  400.000000       400.000000  400.000000\n",
       "mean   1.569154e+07   37.655000     69742.500000    0.357500\n",
       "std    7.165832e+04   10.482877     34096.960282    0.479864\n",
       "min    1.556669e+07   18.000000     15000.000000    0.000000\n",
       "25%    1.562676e+07   29.750000     43000.000000    0.000000\n",
       "50%    1.569434e+07   37.000000     70000.000000    0.000000\n",
       "75%    1.575036e+07   46.000000     88000.000000    1.000000\n",
       "max    1.581524e+07   60.000000    150000.000000    1.000000"
      ]
     },
     "execution_count": 4,
     "metadata": {},
     "output_type": "execute_result"
    }
   ],
   "source": [
    "df.describe()"
   ]
  },
  {
   "cell_type": "code",
   "execution_count": 5,
   "id": "924e22f8",
   "metadata": {},
   "outputs": [
    {
     "data": {
      "text/plain": [
       "36.86734693877551"
      ]
     },
     "execution_count": 5,
     "metadata": {},
     "output_type": "execute_result"
    }
   ],
   "source": [
    "df[df['Gender']=='Male']['Age'].mean()"
   ]
  },
  {
   "cell_type": "code",
   "execution_count": 6,
   "id": "d280030e",
   "metadata": {},
   "outputs": [
    {
     "data": {
      "text/plain": [
       "38.411764705882355"
      ]
     },
     "execution_count": 6,
     "metadata": {},
     "output_type": "execute_result"
    }
   ],
   "source": [
    "df[df['Gender']=='Female']['Age'].mean()"
   ]
  },
  {
   "cell_type": "markdown",
   "id": "231a1b89",
   "metadata": {},
   "source": [
    "# POPULATION OF VARIANCE OF AGES OF MALE AND FEMALE"
   ]
  },
  {
   "cell_type": "code",
   "execution_count": 7,
   "id": "d8323ac9",
   "metadata": {},
   "outputs": [
    {
     "data": {
      "text/plain": [
       "100.87462061747776"
      ]
     },
     "execution_count": 7,
     "metadata": {},
     "output_type": "execute_result"
    }
   ],
   "source": [
    "df[df['Gender']=='Male']['Age'].var()"
   ]
  },
  {
   "cell_type": "code",
   "execution_count": 8,
   "id": "316f8277",
   "metadata": {},
   "outputs": [
    {
     "data": {
      "text/plain": [
       "117.9182845552014"
      ]
     },
     "execution_count": 8,
     "metadata": {},
     "output_type": "execute_result"
    }
   ],
   "source": [
    "df[df['Gender']=='Female']['Age'].var()"
   ]
  },
  {
   "cell_type": "markdown",
   "id": "2bc77363",
   "metadata": {},
   "source": [
    "**PROPORTION OF MALE WHO PURCHASE THE ADS**"
   ]
  },
  {
   "cell_type": "code",
   "execution_count": 9,
   "id": "17330ff6",
   "metadata": {},
   "outputs": [
    {
     "name": "stderr",
     "output_type": "stream",
     "text": [
      "C:\\Users\\Taimoor\\AppData\\Local\\Temp\\ipykernel_11884\\944477796.py:1: UserWarning: Boolean Series key will be reindexed to match DataFrame index.\n",
      "  P1_Male=len(df[df['Gender']=='Male'][df['Purchased']==1])/len(df[df['Gender']=='Male'])*100\n"
     ]
    }
   ],
   "source": [
    "P1_Male=len(df[df['Gender']=='Male'][df['Purchased']==1])/len(df[df['Gender']=='Male'])*100"
   ]
  },
  {
   "cell_type": "code",
   "execution_count": 10,
   "id": "93281053",
   "metadata": {},
   "outputs": [
    {
     "name": "stdout",
     "output_type": "stream",
     "text": [
      "Male Who Purchased the Ad P1=33.6734693877551\n"
     ]
    }
   ],
   "source": [
    "print(f\"Male Who Purchased the Ad P1={P1_Male}\")"
   ]
  },
  {
   "cell_type": "markdown",
   "id": "4d1a5b31",
   "metadata": {},
   "source": [
    "**PROPORTION OF MALE WHO DOES NOT PURCHASE THE ADS**"
   ]
  },
  {
   "cell_type": "code",
   "execution_count": 11,
   "id": "b42c949d",
   "metadata": {},
   "outputs": [
    {
     "name": "stdout",
     "output_type": "stream",
     "text": [
      "Male Who does not purchase the ad: Q1=66.32653061224491\n"
     ]
    }
   ],
   "source": [
    "print(f\"Male Who does not purchase the ad: Q1={100-P1_Male}\")"
   ]
  },
  {
   "cell_type": "markdown",
   "id": "df57af26",
   "metadata": {},
   "source": [
    "**PROPORTION OF FEMALE PURCHASE THE ADS**"
   ]
  },
  {
   "cell_type": "code",
   "execution_count": 12,
   "id": "9f245095",
   "metadata": {},
   "outputs": [
    {
     "name": "stderr",
     "output_type": "stream",
     "text": [
      "C:\\Users\\Taimoor\\AppData\\Local\\Temp\\ipykernel_11884\\3222681887.py:1: UserWarning: Boolean Series key will be reindexed to match DataFrame index.\n",
      "  P1_Female=len(df[df['Gender']=='Female'][df['Purchased']==1])/len(df[df['Gender']=='Female'])*100\n"
     ]
    }
   ],
   "source": [
    "P1_Female=len(df[df['Gender']=='Female'][df['Purchased']==1])/len(df[df['Gender']=='Female'])*100"
   ]
  },
  {
   "cell_type": "code",
   "execution_count": 13,
   "id": "f31cff80",
   "metadata": {},
   "outputs": [
    {
     "name": "stdout",
     "output_type": "stream",
     "text": [
      "Female Who Purchased the Ad P1=37.745098039215684\n"
     ]
    }
   ],
   "source": [
    "print(f\"Female Who Purchased the Ad P1={P1_Female}\")"
   ]
  },
  {
   "cell_type": "markdown",
   "id": "f65bc486",
   "metadata": {},
   "source": [
    "**PROPORTION OF FEMALE WHO DOES NOT PURCHASE THE ADS**"
   ]
  },
  {
   "cell_type": "code",
   "execution_count": 14,
   "id": "a2ccafd7",
   "metadata": {},
   "outputs": [
    {
     "name": "stdout",
     "output_type": "stream",
     "text": [
      "Female Who does not purchase the ad: Q1=62.254901960784316\n"
     ]
    }
   ],
   "source": [
    "print(f\"Female Who does not purchase the ad: Q1={100-P1_Female}\")"
   ]
  },
  {
   "cell_type": "code",
   "execution_count": 15,
   "id": "372705da",
   "metadata": {},
   "outputs": [
    {
     "data": {
      "text/plain": [
       "<AxesSubplot:xlabel='Purchased', ylabel='Density'>"
      ]
     },
     "execution_count": 15,
     "metadata": {},
     "output_type": "execute_result"
    },
    {
     "data": {
      "image/png": "[encoded data removed]",
      "text/plain": [
       "<Figure size 432x288 with 1 Axes>"
      ]
     },
     "metadata": {
      "needs_background": "light"
     },
     "output_type": "display_data"
    }
   ],
   "source": [
    "sns.kdeplot(df['Purchased'],hue=df['Gender'])"
   ]
  },
  {
   "cell_type": "code",
   "execution_count": 16,
   "id": "c8fa9768",
   "metadata": {},
   "outputs": [
    {
     "data": {
      "text/plain": [
       "<seaborn.axisgrid.FacetGrid at 0x1ec66d888e0>"
      ]
     },
     "execution_count": 16,
     "metadata": {},
     "output_type": "execute_result"
    },
    {
     "data": {
      "image/png": "[encoded data removed]",
      "text/plain": [
       "<Figure size 360x360 with 1 Axes>"
      ]
     },
     "metadata": {
      "needs_background": "light"
     },
     "output_type": "display_data"
    }
   ],
   "source": [
    "sns.catplot(data=df, x=\"Gender\",kind=\"count\", palette=\"ch:.25\")"
   ]
  },
  {
   "cell_type": "code",
   "execution_count": 17,
   "id": "e4f00774",
   "metadata": {},
   "outputs": [
    {
     "data": {
      "text/plain": [
       "<seaborn.axisgrid.FacetGrid at 0x1ec6af22bc0>"
      ]
     },
     "execution_count": 17,
     "metadata": {},
     "output_type": "execute_result"
    },
    {
     "data": {
      "image/png": "[encoded data removed]",
      "text/plain": [
       "<Figure size 360x360 with 1 Axes>"
      ]
     },
     "metadata": {
      "needs_background": "light"
     },
     "output_type": "display_data"
    }
   ],
   "source": [
    "sns.catplot(data=df, x=\"Purchased\",kind=\"count\", palette=\"ch:.25\")"
   ]
  },
  {
   "cell_type": "markdown",
   "id": "589723af",
   "metadata": {},
   "source": [
    "# TAKE A RANDOM SAMPLE OF MALE AND FEMALE"
   ]
  },
  {
   "cell_type": "markdown",
   "id": "86f5fa96",
   "metadata": {},
   "source": [
    "**MALE SAMPLE**"
   ]
  },
  {
   "cell_type": "code",
   "execution_count": 18,
   "id": "777f3e76",
   "metadata": {},
   "outputs": [],
   "source": [
    "Male=df[df['Gender']=='Male']"
   ]
  },
  {
   "cell_type": "code",
   "execution_count": 19,
   "id": "43592ecd",
   "metadata": {},
   "outputs": [],
   "source": [
    "Male_sample=Male.sample(n=30,random_state=1)"
   ]
  },
  {
   "cell_type": "code",
   "execution_count": 20,
   "id": "78b6aaff",
   "metadata": {},
   "outputs": [
    {
     "data": {
      "text/plain": [
       "30"
      ]
     },
     "execution_count": 20,
     "metadata": {},
     "output_type": "execute_result"
    }
   ],
   "source": [
    "len(Male_sample)"
   ]
  },
  {
   "cell_type": "markdown",
   "id": "290c7a8a",
   "metadata": {},
   "source": [
    "**FEMALE SAMPLE**"
   ]
  },
  {
   "cell_type": "code",
   "execution_count": 21,
   "id": "feb83532",
   "metadata": {},
   "outputs": [],
   "source": [
    "Female=df[df['Gender']=='Female']"
   ]
  },
  {
   "cell_type": "code",
   "execution_count": 22,
   "id": "c2539da2",
   "metadata": {},
   "outputs": [],
   "source": [
    "Female_Sample=Female.sample(n=30,random_state=0)"
   ]
  },
  {
   "cell_type": "code",
   "execution_count": 23,
   "id": "5b467690",
   "metadata": {},
   "outputs": [
    {
     "data": {
      "image/png": "[encoded data removed]",
      "text/plain": [
       "<Figure size 432x288 with 1 Axes>"
      ]
     },
     "metadata": {
      "needs_background": "light"
     },
     "output_type": "display_data"
    },
    {
     "data": {
      "image/png": "[encoded data removed]",
      "text/plain": [
       "<Figure size 432x288 with 1 Axes>"
      ]
     },
     "metadata": {
      "needs_background": "light"
     },
     "output_type": "display_data"
    }
   ],
   "source": [
    "data_frame=[Male_sample,Female_Sample]\n",
    "for i in data_frame:\n",
    "    plt.figure()\n",
    "    #sns.kdeplot(data['Income'],hue=data[i]);\n",
    "    sns.histplot(data=i,x='Gender',hue='Purchased')"
   ]
  },
  {
   "cell_type": "markdown",
   "id": "dd839906",
   "metadata": {},
   "source": [
    "# HYPOTHESIS TESTS"
   ]
  },
  {
   "cell_type": "markdown",
   "id": "a37623cb",
   "metadata": {},
   "source": [
    "**The proportion of males whose ads were purchased are equal to the proportion of females whose ads were purchased**"
   ]
  },
  {
   "cell_type": "markdown",
   "id": "93f56421",
   "metadata": {},
   "source": [
    "Null Hypothesis : Ho: Proportion of Male and Female are equal p1=p2\n",
    "\n",
    "Alternative Hypothesis: HA: Proportion of Male and Female are not equal p1!=p2"
   ]
  },
  {
   "cell_type": "code",
   "execution_count": 24,
   "id": "229ba2a0",
   "metadata": {},
   "outputs": [
    {
     "data": {
      "text/plain": [
       "9"
      ]
     },
     "execution_count": 24,
     "metadata": {},
     "output_type": "execute_result"
    }
   ],
   "source": [
    "M_S_P=Male_sample[Male_sample['Purchased']==1]\n",
    "len(M_S_P)"
   ]
  },
  {
   "cell_type": "code",
   "execution_count": 25,
   "id": "ca9d00cc",
   "metadata": {},
   "outputs": [],
   "source": [
    "F_S_P=Female_Sample[Female_Sample['Purchased']==1]"
   ]
  },
  {
   "cell_type": "code",
   "execution_count": 26,
   "id": "201496d5",
   "metadata": {},
   "outputs": [
    {
     "data": {
      "text/plain": [
       "12"
      ]
     },
     "execution_count": 26,
     "metadata": {},
     "output_type": "execute_result"
    }
   ],
   "source": [
    "len(F_S_P)"
   ]
  },
  {
   "cell_type": "code",
   "execution_count": 27,
   "id": "859ed1f7",
   "metadata": {},
   "outputs": [],
   "source": [
    "Success=np.array([9,12])\n",
    "Sample_Size=np.array([30,30])"
   ]
  },
  {
   "cell_type": "code",
   "execution_count": 28,
   "id": "771b9e49",
   "metadata": {},
   "outputs": [],
   "source": [
    "from statsmodels.stats.proportion import proportions_ztest"
   ]
  },
  {
   "cell_type": "code",
   "execution_count": 29,
   "id": "3dbb7af0",
   "metadata": {},
   "outputs": [],
   "source": [
    "z_stat, p_value = proportions_ztest(Success,Sample_Size,alternative='two-sided')"
   ]
  },
  {
   "cell_type": "code",
   "execution_count": 30,
   "id": "efdd8a56",
   "metadata": {},
   "outputs": [
    {
     "name": "stdout",
     "output_type": "stream",
     "text": [
      "0.41679281184762673 Accept Null Hypothesis\n"
     ]
    }
   ],
   "source": [
    "\n",
    "if p_value>0.05:\n",
    "    print(f'{p_value} Accept Null Hypothesis')\n",
    "else:\n",
    "        print('Reject Null Hypothesis')"
   ]
  },
  {
   "cell_type": "markdown",
   "id": "f2bdaeb8",
   "metadata": {},
   "source": [
    "# **The Proportion of males whose ads were not purchased are equal to the proportion of females whose ads were not purchased**"
   ]
  },
  {
   "cell_type": "markdown",
   "id": "58298f44",
   "metadata": {},
   "source": [
    "NULL HYPOTHESIS : HO : PROPORTION OF MALE AND FEMALE ARE EQUAL WHEN ADS NOT SOLD P1=P2\n",
    "\n",
    "ALTERNATIVE HYPOTHESIS : HA: PROPORTION OF MALE AND FEMALE ARE NOT EQUAL WHEN ADS NOT SOLD P1!=P2"
   ]
  },
  {
   "cell_type": "code",
   "execution_count": 31,
   "id": "c1a58a76",
   "metadata": {},
   "outputs": [],
   "source": [
    "Male_Unpurchased=Male_sample[Male_sample['Purchased']==0]"
   ]
  },
  {
   "cell_type": "code",
   "execution_count": 32,
   "id": "02e206df",
   "metadata": {},
   "outputs": [],
   "source": [
    "Female_Unpurchased=Female_Sample[Female_Sample['Purchased']==0]"
   ]
  },
  {
   "cell_type": "code",
   "execution_count": 33,
   "id": "b3cb7b72",
   "metadata": {},
   "outputs": [
    {
     "data": {
      "text/plain": [
       "21"
      ]
     },
     "execution_count": 33,
     "metadata": {},
     "output_type": "execute_result"
    }
   ],
   "source": [
    "\n",
    "len(Male_Unpurchased)"
   ]
  },
  {
   "cell_type": "code",
   "execution_count": 34,
   "id": "303df7cf",
   "metadata": {},
   "outputs": [
    {
     "data": {
      "text/plain": [
       "18"
      ]
     },
     "execution_count": 34,
     "metadata": {},
     "output_type": "execute_result"
    }
   ],
   "source": [
    "len(Female_Unpurchased)"
   ]
  },
  {
   "cell_type": "code",
   "execution_count": 35,
   "id": "3c72f38f",
   "metadata": {},
   "outputs": [],
   "source": [
    "unsucess=np.array([21,18])\n",
    "Sample_Size=np.array([30,30])"
   ]
  },
  {
   "cell_type": "code",
   "execution_count": 36,
   "id": "8e7f3d0d",
   "metadata": {},
   "outputs": [],
   "source": [
    "z_stat, p_value = proportions_ztest(unsucess,Sample_Size,alternative='two-sided')"
   ]
  },
  {
   "cell_type": "code",
   "execution_count": 37,
   "id": "647c5124",
   "metadata": {},
   "outputs": [
    {
     "name": "stdout",
     "output_type": "stream",
     "text": [
      "0.41679281184762706 Accept Null Hypothesis\n"
     ]
    }
   ],
   "source": [
    "\n",
    "if p_value>0.05:\n",
    "    print(f'{p_value} Accept Null Hypothesis')\n",
    "else:\n",
    "        print('Reject Null Hypothesis')"
   ]
  },
  {
   "cell_type": "markdown",
   "id": "f3f6c2db",
   "metadata": {},
   "source": [
    "# The equality of variances of ages of males and females"
   ]
  },
  {
   "cell_type": "markdown",
   "id": "c9ca7e30",
   "metadata": {},
   "source": [
    "HO: VARIANCE OF MALE AND FEMALE ARE EQUAL σ1=σ2\n",
    "\n",
    "HA: VARIANCE OF MALE AND FEMALE ARE NOT EQUAL σ1!=σ2"
   ]
  },
  {
   "cell_type": "code",
   "execution_count": 38,
   "id": "247095da",
   "metadata": {},
   "outputs": [],
   "source": [
    "x1=Male_sample['Age']\n",
    "x2=Female_Sample['Age']\n",
    "X1=np.array(x1)\n",
    "X2=np.array(x2)"
   ]
  },
  {
   "cell_type": "code",
   "execution_count": 39,
   "id": "a91b4263",
   "metadata": {},
   "outputs": [
    {
     "name": "stdout",
     "output_type": "stream",
     "text": [
      "The value of p is 0.5971055249595009, So we will accept Null Hypothesis\n"
     ]
    }
   ],
   "source": [
    "def f_test(x, y):\n",
    "    \n",
    "    f = np.var(X1, ddof=1)/np.var(X2, ddof=1)\n",
    "    dfn = X1.size-1 \n",
    "    dfd = X2.size-1\n",
    "    p = 1-stats.f.cdf(f, dfn, dfd)\n",
    "    if p>0.05:\n",
    "        print(f'The value of p is {p}, So we will accept Null Hypothesis')\n",
    "    else:\n",
    "        print(f'The value of p is {p}, So we will reject Null Hypothesis')\n",
    "\n",
    "\n",
    "\n",
    "#perform F-test\n",
    "f_test(X1,X2)\n"
   ]
  },
  {
   "cell_type": "markdown",
   "id": "203f7cce",
   "metadata": {},
   "source": [
    "**Based on the results of ‘c’, the equality of means of ages of males and females.**"
   ]
  },
  {
   "cell_type": "markdown",
   "id": "de38c38e",
   "metadata": {},
   "source": [
    "Variance of both samples are equal so mean of both groups are equal as well"
   ]
  },
  {
   "cell_type": "markdown",
   "id": "a3df0f39",
   "metadata": {},
   "source": [
    "# CONCLUSION"
   ]
  },
  {
   "cell_type": "markdown",
   "id": "7e97017c",
   "metadata": {},
   "source": [
    "a: There are 95% surety that both male and female equally purchasing ads\n",
    "\n",
    "b: There are 95% surety that proportion of male and female are equal in terms of not purchasing ads\n",
    "\n",
    "c: We are 95% sure that variances male and female ages are equal\n",
    "\n",
    "d: We are 95% sure that means male and female are equal\n"
   ]
  },
  {
   "cell_type": "markdown",
   "id": "8629369b",
   "metadata": {},
   "source": [
    "# SUMMARY"
   ]
  },
  {
   "cell_type": "markdown",
   "id": "bd85a9a6",
   "metadata": {},
   "source": [
    "**After Analyzing the campaign we identify that both men and women have same buying behavior**"
   ]
  },
  {
   "cell_type": "markdown",
   "id": "3981d214",
   "metadata": {},
   "source": [
    "# TITLE"
   ]
  },
  {
   "cell_type": "markdown",
   "id": "2b651f81",
   "metadata": {},
   "source": [
    "**STATISTICAL MODELIN**"
   ]
  },
  {
   "cell_type": "code",
   "execution_count": null,
   "id": "00d413e0",
   "metadata": {},
   "outputs": [],
   "source": []
  }
 ],
 "metadata": {
  "kernelspec": {
   "display_name": "Python 3 (ipykernel)",
   "language": "python",
   "name": "python3"
  },
  "language_info": {
   "codemirror_mode": {
    "name": "ipython",
    "version": 3
   },
   "file_extension": ".py",
   "mimetype": "text/x-python",
   "name": "python",
   "nbconvert_exporter": "python",
   "pygments_lexer": "ipython3",
   "version": "3.10.4"
  }
 },
 "nbformat": 4,
 "nbformat_minor": 5
}
